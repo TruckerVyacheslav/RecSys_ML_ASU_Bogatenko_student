{
 "cells": [
  {
   "cell_type": "code",
   "execution_count": null,
   "id": "initial_id",
   "metadata": {
    "collapsed": true
   },
   "outputs": [],
   "source": [
    "import os\n",
    "import sqlite3\n",
    "import requests\n",
    "from bs4 import BeautifulSoup\n",
    "from ast import literal_eval\n",
    "import numpy as np\n",
    "\n",
    "from requests.adapters import HTTPAdapter\n",
    "from urllib3.util.retry import Retry"
   ]
  },
  {
   "cell_type": "code",
   "execution_count": null,
   "outputs": [],
   "source": [
    "connection = sqlite3.connect('movies_db.db')\n",
    "cursor = connection.cursor()"
   ],
   "metadata": {
    "collapsed": false
   },
   "id": "90dd2fdb00a4f0d"
  },
  {
   "cell_type": "code",
   "execution_count": null,
   "outputs": [],
   "source": [
    "# Table for movies\n",
    "cursor.execute(\"\"\"\n",
    "\tCREATE TABLE IF NOT EXISTS movies(\n",
    "\t\tid INTEGER PRIMARY KEY,\n",
    "\t\tmovieDB_id INTEGER NOT NULL UNIQUE,\n",
    "\t\ttitle TEXT NOT NULL UNIQUE,\n",
    "\t\tduration NOT NULL,\n",
    "\t\tvote_counts INTEGER NOT NULL,\n",
    "\t\tvote_average NOT NULL,\n",
    "\t\trelease_date NOT NULL,\n",
    "\t\tposter_path,\n",
    "\t\tpopularity NOT NULL,\n",
    "\t\tdirector NOT NULL\n",
    "\t\t)\n",
    "\t\"\"\")"
   ],
   "metadata": {
    "collapsed": false
   },
   "id": "baa390914153d29b"
  },
  {
   "cell_type": "code",
   "execution_count": null,
   "outputs": [],
   "source": [
    "# Table for actors\n",
    "cursor.execute(\"\"\"\n",
    "\tCREATE TABLE IF NOT EXISTS actors(\n",
    "\t\tid INTEGER PRIMARY KEY,\n",
    "\t\tname NOT NULL UNIQUE\n",
    "\t\t)\n",
    "\t\"\"\")"
   ],
   "metadata": {
    "collapsed": false
   },
   "id": "3ef8a9c328aad9ec"
  },
  {
   "cell_type": "code",
   "execution_count": null,
   "outputs": [],
   "source": [
    "# Table for genres\n",
    "cursor.execute(\"\"\"\n",
    "\tCREATE TABLE IF NOT EXISTS genres(\n",
    "\t\tid INTEGER PRIMARY KEY,\n",
    "\t\tname NOT NULL UNIQUE\n",
    "\t\t)\n",
    "\t\"\"\")"
   ],
   "metadata": {
    "collapsed": false
   },
   "id": "c9207c54bcef081d"
  },
  {
   "cell_type": "code",
   "execution_count": null,
   "outputs": [],
   "source": [
    "# Table for keywords\n",
    "cursor.execute(\"\"\"\n",
    "\tCREATE TABLE IF NOT EXISTS keywords(\n",
    "\t\tid INTEGER PRIMARY KEY,\n",
    "\t\tname NOT NULL UNIQUE\n",
    "\t\t)\n",
    "\t\"\"\")"
   ],
   "metadata": {
    "collapsed": false
   },
   "id": "3ca9535c816fffbf"
  },
  {
   "cell_type": "code",
   "execution_count": null,
   "outputs": [],
   "source": [
    "# Relational table MOVIE-GENRE\n",
    "cursor.execute(\"\"\"\n",
    "\tCREATE TABLE IF NOT EXISTS movie_genres(\n",
    "\t\tid INTEGER PRIMARY KEY,\n",
    "\t\tmovie_id INTEGER NOT NULL,\n",
    "\t\tgenre_id INTEGER NOT NULL,\n",
    "\t\tFOREIGN KEY (movie_id) REFERENCES movies (id),\n",
    "\t\tFOREIGN KEY (genre_id) REFERENCES genres (id)\n",
    "\t\t)\n",
    "\t\"\"\")"
   ],
   "metadata": {
    "collapsed": false
   },
   "id": "c1ba5c13125a8b23"
  },
  {
   "cell_type": "code",
   "execution_count": null,
   "outputs": [],
   "source": [
    "# Relational table MOVIE-ACTOR\n",
    "cursor.execute(\"\"\"\n",
    "\tCREATE TABLE IF NOT EXISTS movie_actors(\n",
    "\t\tid INTEGER PRIMARY KEY,\n",
    "\t\tmovie_id INTEGER NOT NULL,\n",
    "\t\tactor_id INTEGER NOT NULL,\n",
    "\t\tFOREIGN KEY (movie_id) REFERENCES movies (id),\n",
    "\t\tFOREIGN KEY (actor_id) REFERENCES actors (id)\n",
    "\t\t)\n",
    "\t\"\"\")"
   ],
   "metadata": {
    "collapsed": false
   },
   "id": "304a70c60537498"
  },
  {
   "cell_type": "code",
   "execution_count": null,
   "outputs": [],
   "source": [
    "# Relational table MOVIE-KEYWORD\n",
    "cursor.execute(\"\"\"\n",
    "\tCREATE TABLE IF NOT EXISTS movie_keywords(\n",
    "\t\tid INTEGER PRIMARY KEY,\n",
    "\t\tmovie_id INTEGER NOT NULL,\n",
    "\t\tkeyword_id INTEGER NOT NULL,\n",
    "\t\tFOREIGN KEY (movie_id) REFERENCES movies (id),\n",
    "\t\tFOREIGN KEY (keyword_id) REFERENCES keywords (id)\n",
    "\t\t)\n",
    "\t\"\"\")"
   ],
   "metadata": {
    "collapsed": false
   },
   "id": "361dc4b9334d2c17"
  },
  {
   "cell_type": "code",
   "execution_count": null,
   "outputs": [],
   "source": [
    "# Table for users\n",
    "cursor.execute(\"\"\"\n",
    "    CREATE TABLE IF NOT EXISTS users(\n",
    "        id INTEGER AUTO_INCREMENT PRIMARY KEY,\n",
    "        username VARCHAR(50) NOT NULL UNIQUE,\n",
    "        password VARCHAR(20)\n",
    "        )\n",
    "    \"\"\");"
   ],
   "metadata": {
    "collapsed": false
   },
   "id": "1d84f66b4ce29236"
  },
  {
   "cell_type": "code",
   "execution_count": null,
   "outputs": [],
   "source": [
    "# Table for user ratings\n",
    "cursor.execute(\"\"\"\n",
    "    CREATE TABLE IF NOT EXISTS user_ratings(\n",
    "        id INTEGER AUTO_INCREMENT PRIMARY KEY,\n",
    "        user_id INTEGER NOT NULL,\n",
    "        movie_id INTEGER NOT NULL,\n",
    "        rating INTEGER,\n",
    "        FOREIGN KEY (movie_id) REFERENCES movies (id),\n",
    "        FOREIGN KEY (user_id) REFERENCES users (id)\n",
    "        )\n",
    "    \"\"\");"
   ],
   "metadata": {
    "collapsed": false
   },
   "id": "2a58f740451e7083"
  },
  {
   "cell_type": "code",
   "execution_count": null,
   "outputs": [],
   "source": [
    "# Commit changes to the database\n",
    "connection.commit()"
   ],
   "metadata": {
    "collapsed": false
   },
   "id": "a2638d77f5e6d481"
  },
  {
   "cell_type": "code",
   "execution_count": null,
   "outputs": [],
   "source": [],
   "metadata": {
    "collapsed": false
   },
   "id": "5e0a63575a8c8c10"
  },
  {
   "cell_type": "code",
   "execution_count": null,
   "outputs": [],
   "source": [],
   "metadata": {
    "collapsed": false
   },
   "id": "ab834f2962d1999"
  }
 ],
 "metadata": {
  "kernelspec": {
   "display_name": "Python 3",
   "language": "python",
   "name": "python3"
  },
  "language_info": {
   "codemirror_mode": {
    "name": "ipython",
    "version": 2
   },
   "file_extension": ".py",
   "mimetype": "text/x-python",
   "name": "python",
   "nbconvert_exporter": "python",
   "pygments_lexer": "ipython2",
   "version": "2.7.6"
  }
 },
 "nbformat": 4,
 "nbformat_minor": 5
}
