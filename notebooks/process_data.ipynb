{
 "cells": [
  {
   "cell_type": "code",
   "execution_count": 1,
   "id": "initial_id",
   "metadata": {
    "collapsed": true,
    "ExecuteTime": {
     "end_time": "2023-12-07T11:03:04.162068Z",
     "start_time": "2023-12-07T11:03:03.114762Z"
    }
   },
   "outputs": [],
   "source": [
    "import pandas as pd\n",
    "import pickle"
   ]
  },
  {
   "cell_type": "code",
   "execution_count": 2,
   "outputs": [],
   "source": [
    "def load_data(movie_df_path, poster_df_path) -> pd.DataFrame():\n",
    "    \"\"\"\n",
    "    Добавляет постеры к фильмам к датафрейму с фильмами\n",
    "    \"\"\"\n",
    "\n",
    "    with (open(movie_df_path, \"rb\")) as f:\n",
    "        movie_df = pickle.load(f)\n",
    "\n",
    "    # Load poster dataframe from csv\n",
    "    posters_df = pd.read_csv(poster_df_path, sep=\"\\t\")\n",
    "\n",
    "    # Prepare poster dataframe\n",
    "    # Fill NaN values with empty string\n",
    "    posters_df.fillna(\"\", inplace=True)\n",
    "    # Remove year from the title (Fight Club (1999) -> Fight Club)\n",
    "    posters_df[\"title\"] = posters_df[\"title\"].apply(lambda x: x[:-7])\n",
    "    # Remove \"The\" from the end of the title (Shaw shank Redemption, The -> Shaw shank Redemption)\n",
    "    posters_df[\"title\"] = posters_df[\"title\"].apply(lambda x: x[:-5] if x.endswith(\", The\") else x)\n",
    "\n",
    "    # Merge two dataframes by title\n",
    "    df = movie_df.merge(posters_df, on=\"title\", how=\"left\")\n",
    "\n",
    "    # Remove rows with no poster (None values)\n",
    "    df = df[df[\"poster_link\"].notna()]\n",
    "    # Drop year_y column\n",
    "    df.drop(columns=[\"year_y\"], inplace=True)\n",
    "    # Rename year_x to year\n",
    "    df.rename(columns={\"year_x\": \"year\"}, inplace=True)\n",
    "    # Drop item column\n",
    "    df.drop(columns=[\"item\"], inplace=True)\n",
    "    # Reset index\n",
    "    df.reset_index(drop=True, inplace=True)\n",
    "\n",
    "    return df"
   ],
   "metadata": {
    "collapsed": false,
    "ExecuteTime": {
     "end_time": "2023-12-07T11:03:10.214253Z",
     "start_time": "2023-12-07T11:03:10.209255Z"
    }
   },
   "id": "aa176df4501f704f"
  },
  {
   "cell_type": "code",
   "execution_count": 3,
   "outputs": [],
   "source": [
    "movies_df = load_data(\"../data/datasets/movies_df.pickle\", \"../data/datasets/poster.csv\")"
   ],
   "metadata": {
    "collapsed": false,
    "ExecuteTime": {
     "end_time": "2023-12-07T11:04:06.933396Z",
     "start_time": "2023-12-07T11:04:06.845704Z"
    }
   },
   "id": "e7602833d1d6a249"
  },
  {
   "cell_type": "code",
   "execution_count": 4,
   "outputs": [],
   "source": [
    "# Добавляем к фильмам оценки пользователей. Для этого загружаем датасеты с фильмами, рейтингами и ссылками между ними\n",
    "def add_rating(movies_df: pd.DataFrame, ratings_path: str, links_path: str):\n",
    "\t\"\"\"\n",
    "\tДобавляет оценки пользователей к датафрейму с фильмами\n",
    "\t\"\"\"\n",
    "\t\n",
    "\t# Загружаем датасеты\n",
    "\trating_df = pd.read_csv(ratings_path)\n",
    "\tlinks_df = pd.read_csv(links_path)\n",
    "\n",
    "\t# Переименовываем столбец с id фильма в обоих датасетах\n",
    "\tmovies_df.rename(columns={\"id\": \"tmdb_id\"}, inplace=True)\n",
    "\tlinks_df.rename(columns={\"tmdbId\": \"tmdb_id\"}, inplace=True)\n",
    "\n",
    "\t# Объединяем датасеты по id фильма\n",
    "\ttmp_df = movies_df.merge(links_df, on='tmdb_id')\n",
    "\n",
    "\t# Удаляем дубликаты и пропущенные значения\n",
    "\ttmp_df = tmp_df.drop_duplicates(subset=\"tmdb_id\")\n",
    "\ttmp_df = tmp_df.dropna(subset=\"movieId\")\n",
    "\n",
    "\t# Объединяем датасеты по id фильма\n",
    "\tdf = rating_df.merge(tmp_df, on='movieId')\n",
    "\n",
    "\treturn df"
   ],
   "metadata": {
    "collapsed": false,
    "ExecuteTime": {
     "end_time": "2023-12-07T11:04:35.955067Z",
     "start_time": "2023-12-07T11:04:35.948632Z"
    }
   },
   "id": "fa95b554457e99a5"
  },
  {
   "cell_type": "code",
   "execution_count": 5,
   "outputs": [],
   "source": [
    "df = add_rating(movies_df, \"../data/datasets/ratings.csv\", \"../data/datasets/links.csv\")"
   ],
   "metadata": {
    "collapsed": false,
    "ExecuteTime": {
     "end_time": "2023-12-07T11:04:57.259342Z",
     "start_time": "2023-12-07T11:04:50.773563Z"
    }
   },
   "id": "7b09330c605b933f"
  },
  {
   "cell_type": "code",
   "execution_count": 7,
   "outputs": [],
   "source": [
    "with open('../data/datasets/movies.pickle', 'wb') as f:\n",
    "\tpickle.dump(df, f)"
   ],
   "metadata": {
    "collapsed": false,
    "ExecuteTime": {
     "end_time": "2023-12-07T11:05:39.056476Z",
     "start_time": "2023-12-07T11:05:36.905125Z"
    }
   },
   "id": "1aac8823ed7f041e"
  },
  {
   "cell_type": "code",
   "execution_count": 8,
   "outputs": [],
   "source": [
    "# Удаляем более не нужные csv файлы\n",
    "import os\n",
    "#os.remove(\"../data/datasets/ratings.csv\")\n",
    "#os.remove(\"../data/datasets/links.csv\")\n",
    "#os.remove(\"../data/datasets/poster.csv\")\n",
    "#os.remove(\"../data/datasets/movies_df.pickle\")"
   ],
   "metadata": {
    "collapsed": false,
    "ExecuteTime": {
     "end_time": "2023-12-07T11:05:40.926201Z",
     "start_time": "2023-12-07T11:05:40.911859Z"
    }
   },
   "id": "7b5273f129e15ae5"
  },
  {
   "cell_type": "code",
   "execution_count": null,
   "outputs": [],
   "source": [],
   "metadata": {
    "collapsed": false
   },
   "id": "415ca54920f16aa1"
  }
 ],
 "metadata": {
  "kernelspec": {
   "display_name": "Python 3",
   "language": "python",
   "name": "python3"
  },
  "language_info": {
   "codemirror_mode": {
    "name": "ipython",
    "version": 2
   },
   "file_extension": ".py",
   "mimetype": "text/x-python",
   "name": "python",
   "nbconvert_exporter": "python",
   "pygments_lexer": "ipython2",
   "version": "2.7.6"
  }
 },
 "nbformat": 4,
 "nbformat_minor": 5
}
